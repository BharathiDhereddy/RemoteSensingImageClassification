{
 "cells": [
  {
   "cell_type": "code",
   "execution_count": 1,
   "id": "5bf2e97c",
   "metadata": {},
   "outputs": [
    {
     "name": "stdout",
     "output_type": "stream",
     "text": [
      "WARNING:tensorflow:From C:\\Users\\Bharathi Dhereddy\\anaconda3\\Lib\\site-packages\\keras\\src\\losses.py:2976: The name tf.losses.sparse_softmax_cross_entropy is deprecated. Please use tf.compat.v1.losses.sparse_softmax_cross_entropy instead.\n",
      "\n"
     ]
    }
   ],
   "source": [
    "import tensorflow as tf\n",
    "from tensorflow import keras\n",
    "from tensorflow.keras import datasets, layers, models\n",
    "from tensorflow.keras.preprocessing.image import ImageDataGenerator\n",
    "import matplotlib.pyplot as plt\n",
    "import numpy as np"
   ]
  },
  {
   "cell_type": "code",
   "execution_count": 2,
   "id": "12a72588",
   "metadata": {},
   "outputs": [],
   "source": [
    "#Data Loading"
   ]
  },
  {
   "cell_type": "code",
   "execution_count": 3,
   "id": "0a36a40b",
   "metadata": {},
   "outputs": [
    {
     "name": "stdout",
     "output_type": "stream",
     "text": [
      "Found 27000 images belonging to 10 classes.\n"
     ]
    }
   ],
   "source": [
    "#Load the dataset\n",
    "data_generator = keras.preprocessing.image.ImageDataGenerator(\n",
    "    rescale=1./255,\n",
    "    shear_range=0.2,\n",
    "    zoom_range=0.2,\n",
    "    validation_split=0.2\n",
    "    \n",
    ")\n",
    "\n",
    "data_path = r'E:\\4-2\\Eurosat Dataset\\2750'\n",
    "\n",
    "data = data_generator.flow_from_directory(\n",
    "    data_path,\n",
    "    target_size=(64, 64),\n",
    "    batch_size=32,\n",
    "    class_mode='categorical',\n",
    "    classes=['AnnualCrop', 'Forest', 'HerbaceousVegetation', 'Highway', 'Industrial', 'Pasture', 'PermanentCrop', 'Residential', 'River', 'SeaLake'] \n",
    "\n",
    ")"
   ]
  },
  {
   "cell_type": "code",
   "execution_count": 4,
   "id": "b17f4642",
   "metadata": {},
   "outputs": [],
   "source": [
    "#Training & Testing Dataset "
   ]
  },
  {
   "cell_type": "code",
   "execution_count": 5,
   "id": "26ebe323",
   "metadata": {},
   "outputs": [
    {
     "name": "stdout",
     "output_type": "stream",
     "text": [
      "Found 21600 images belonging to 10 classes.\n"
     ]
    }
   ],
   "source": [
    "train_data = data_generator.flow_from_directory(\n",
    "    data_path,\n",
    "    target_size=(64, 64),\n",
    "    batch_size=8,\n",
    "    class_mode='categorical',\n",
    "    subset='training',\n",
    "    classes=['AnnualCrop', 'Forest', 'HerbaceousVegetation', 'Highway', 'Industrial', 'Pasture', 'PermanentCrop', 'Residential', 'River', 'SeaLake']\n",
    "\n",
    "    \n",
    "\n",
    ")"
   ]
  },
  {
   "cell_type": "code",
   "execution_count": 6,
   "id": "6ef1b13b",
   "metadata": {},
   "outputs": [
    {
     "name": "stdout",
     "output_type": "stream",
     "text": [
      "Found 5400 images belonging to 10 classes.\n"
     ]
    }
   ],
   "source": [
    "test_data = data_generator.flow_from_directory(\n",
    "    r'E:\\4-2\\Eurosat Dataset\\2750',\n",
    "    target_size=(64, 64),\n",
    "    batch_size=1,\n",
    "    subset='validation',\n",
    "    class_mode='categorical',\n",
    "    classes=['AnnualCrop', 'Forest', 'HerbaceousVegetation', 'Highway', 'Industrial', 'Pasture', 'PermanentCrop', 'Residential', 'River', 'SeaLake']\n",
    "\n",
    "    \n",
    ")"
   ]
  },
  {
   "cell_type": "code",
   "execution_count": 7,
   "id": "8fbe3665",
   "metadata": {},
   "outputs": [
    {
     "name": "stdout",
     "output_type": "stream",
     "text": [
      "WARNING:tensorflow:From C:\\Users\\Bharathi Dhereddy\\anaconda3\\Lib\\site-packages\\keras\\src\\backend.py:873: The name tf.get_default_graph is deprecated. Please use tf.compat.v1.get_default_graph instead.\n",
      "\n",
      "WARNING:tensorflow:From C:\\Users\\Bharathi Dhereddy\\anaconda3\\Lib\\site-packages\\keras\\src\\layers\\pooling\\max_pooling2d.py:161: The name tf.nn.max_pool is deprecated. Please use tf.nn.max_pool2d instead.\n",
      "\n"
     ]
    }
   ],
   "source": [
    "#Model building using CNN\n",
    "\n",
    "CNN = keras.Sequential([\n",
    "        keras.layers.Conv2D(32, (3, 3), activation='relu', input_shape=(64, 64, 3)),\n",
    "        keras.layers.MaxPooling2D((2, 2)),\n",
    "        keras.layers.Conv2D(64, (3, 3), activation='relu'),\n",
    "        keras.layers.MaxPooling2D((2, 2)),\n",
    "        keras.layers.Conv2D(64, (3, 3), activation='relu'),\n",
    "        keras.layers.MaxPooling2D((2, 2)),\n",
    "        keras.layers.Conv2D(64, (3, 3), activation='relu'),\n",
    "        keras.layers.Flatten(),\n",
    "        keras.layers.Dense(64, activation='relu'),\n",
    "        keras.layers.Dense(10,activation='softmax')\n",
    "        \n",
    "])"
   ]
  },
  {
   "cell_type": "code",
   "execution_count": 8,
   "id": "0028fa2a",
   "metadata": {},
   "outputs": [
    {
     "name": "stdout",
     "output_type": "stream",
     "text": [
      "WARNING:tensorflow:From C:\\Users\\Bharathi Dhereddy\\anaconda3\\Lib\\site-packages\\keras\\src\\optimizers\\__init__.py:309: The name tf.train.Optimizer is deprecated. Please use tf.compat.v1.train.Optimizer instead.\n",
      "\n"
     ]
    }
   ],
   "source": [
    "CNN.compile(optimizer='adam',\n",
    "              loss='categorical_crossentropy',\n",
    "              metrics=['accuracy'])"
   ]
  },
  {
   "cell_type": "code",
   "execution_count": 9,
   "id": "a5e787a4",
   "metadata": {},
   "outputs": [
    {
     "name": "stdout",
     "output_type": "stream",
     "text": [
      "Epoch 1/10\n",
      "WARNING:tensorflow:From C:\\Users\\Bharathi Dhereddy\\anaconda3\\Lib\\site-packages\\keras\\src\\utils\\tf_utils.py:492: The name tf.ragged.RaggedTensorValue is deprecated. Please use tf.compat.v1.ragged.RaggedTensorValue instead.\n",
      "\n",
      "WARNING:tensorflow:From C:\\Users\\Bharathi Dhereddy\\anaconda3\\Lib\\site-packages\\keras\\src\\engine\\base_layer_utils.py:384: The name tf.executing_eagerly_outside_functions is deprecated. Please use tf.compat.v1.executing_eagerly_outside_functions instead.\n",
      "\n",
      "2700/2700 [==============================] - 306s 112ms/step - loss: 1.2754 - accuracy: 0.5066 - val_loss: 0.9480 - val_accuracy: 0.6443\n",
      "Epoch 2/10\n",
      "2700/2700 [==============================] - 673s 249ms/step - loss: 0.8031 - accuracy: 0.7093 - val_loss: 0.6388 - val_accuracy: 0.7670\n",
      "Epoch 3/10\n",
      "2700/2700 [==============================] - 405s 150ms/step - loss: 0.6573 - accuracy: 0.7629 - val_loss: 0.6473 - val_accuracy: 0.7746\n",
      "Epoch 4/10\n",
      "2700/2700 [==============================] - 569s 211ms/step - loss: 0.5768 - accuracy: 0.7940 - val_loss: 0.6556 - val_accuracy: 0.7746\n",
      "Epoch 5/10\n",
      "2700/2700 [==============================] - 450s 167ms/step - loss: 0.5082 - accuracy: 0.8202 - val_loss: 0.5700 - val_accuracy: 0.7978\n",
      "Epoch 6/10\n",
      "2700/2700 [==============================] - 436s 161ms/step - loss: 0.4638 - accuracy: 0.8372 - val_loss: 0.4763 - val_accuracy: 0.8300\n",
      "Epoch 7/10\n",
      "2700/2700 [==============================] - 442s 164ms/step - loss: 0.4342 - accuracy: 0.8470 - val_loss: 0.5198 - val_accuracy: 0.8206\n",
      "Epoch 8/10\n",
      "2700/2700 [==============================] - 450s 167ms/step - loss: 0.3911 - accuracy: 0.8619 - val_loss: 0.3715 - val_accuracy: 0.8715\n",
      "Epoch 9/10\n",
      "2700/2700 [==============================] - 460s 170ms/step - loss: 0.3609 - accuracy: 0.8736 - val_loss: 0.4036 - val_accuracy: 0.8644\n",
      "Epoch 10/10\n",
      "2700/2700 [==============================] - 451s 167ms/step - loss: 0.3401 - accuracy: 0.8795 - val_loss: 0.4085 - val_accuracy: 0.8643\n"
     ]
    },
    {
     "data": {
      "text/plain": [
       "<keras.src.callbacks.History at 0x22781e19610>"
      ]
     },
     "execution_count": 9,
     "metadata": {},
     "output_type": "execute_result"
    }
   ],
   "source": [
    "CNN.fit(train_data, validation_data=test_data, epochs=10)\n"
   ]
  },
  {
   "cell_type": "code",
   "execution_count": 10,
   "id": "8a34acd3",
   "metadata": {},
   "outputs": [
    {
     "name": "stdout",
     "output_type": "stream",
     "text": [
      "5400/5400 [==============================] - 195s 36ms/step - loss: 0.4063 - accuracy: 0.8633\n"
     ]
    },
    {
     "data": {
      "text/plain": [
       "[0.40630030632019043, 0.8633333444595337]"
      ]
     },
     "execution_count": 10,
     "metadata": {},
     "output_type": "execute_result"
    }
   ],
   "source": [
    "CNN.evaluate(test_data)"
   ]
  },
  {
   "cell_type": "code",
   "execution_count": 12,
   "id": "e36d99d7",
   "metadata": {},
   "outputs": [
    {
     "name": "stdout",
     "output_type": "stream",
     "text": [
      "5400/5400 [==============================] - 116s 21ms/step\n",
      "Classification Report: \n",
      "               precision    recall  f1-score   support\n",
      "\n",
      "           0       0.89      0.83      0.86       600\n",
      "           1       0.92      0.97      0.94       600\n",
      "           2       0.88      0.70      0.78       600\n",
      "           3       0.80      0.82      0.81       500\n",
      "           4       0.80      0.97      0.88       500\n",
      "           5       0.89      0.77      0.83       400\n",
      "           6       0.78      0.77      0.77       500\n",
      "           7       0.94      0.90      0.92       600\n",
      "           8       0.74      0.90      0.81       500\n",
      "           9       0.98      0.95      0.97       600\n",
      "\n",
      "    accuracy                           0.86      5400\n",
      "   macro avg       0.86      0.86      0.86      5400\n",
      "weighted avg       0.87      0.86      0.86      5400\n",
      "\n"
     ]
    }
   ],
   "source": [
    "from sklearn.metrics import confusion_matrix,classification_report\n",
    "y_true = []\n",
    "for i in range(test_data.samples // test_data.batch_size):\n",
    "    _, batch_labels = test_data.next()\n",
    "    y_true.extend(np.argmax(batch_labels, axis=-1))\n",
    "\n",
    "# Generating predictions for test data\n",
    "y_probab = CNN.predict(test_data, steps=np.ceil(test_data.samples/test_data.batch_size))\n",
    "\n",
    "#Generating predicted classes for test data\n",
    "y_pred = np.argmax(y_probab, axis=-1)\n",
    "\n",
    "#Generating confusion matrix\n",
    "cm = confusion_matrix(y_true, y_pred)\n",
    "print(\"Classification Report: \\n\", classification_report(y_true, y_pred))"
   ]
  },
  {
   "cell_type": "code",
   "execution_count": 13,
   "id": "2c1ca350",
   "metadata": {},
   "outputs": [
    {
     "data": {
      "image/png": "[encoded data removed]",
      "text/plain": [
       "<Figure size 640x480 with 2 Axes>"
      ]
     },
     "metadata": {},
     "output_type": "display_data"
    }
   ],
   "source": [
    "#Plotting Confusion Matrix\n",
    "\n",
    "plt.imshow(cm, cmap=plt.cm.Blues)\n",
    "plt.title('Confusion Matrix')\n",
    "plt.colorbar()\n",
    "tick_marks = np.arange(len(data.class_indices))\n",
    "plt.xticks(tick_marks, data.class_indices, rotation=90)\n",
    "plt.yticks(tick_marks, data.class_indices)\n",
    "plt.xlabel('Predicted Label')\n",
    "plt.ylabel('Ground Truth')\n",
    "\n",
    "#adding values in each cell\n",
    "thresh = cm.max() / 2.\n",
    "for i, j in zip(range(cm.shape[0]), range(cm.shape[1])):\n",
    "    plt.text(j, i, format(cm[i, j], 'd'),\n",
    "             horizontalalignment=\"center\",\n",
    "             color=\"white\" if cm[i, j] > thresh else \"black\")\n",
    "\n",
    "plt.show()"
   ]
  },
  {
   "cell_type": "code",
   "execution_count": null,
   "id": "c169a7a5",
   "metadata": {},
   "outputs": [],
   "source": [
    "#CLASSIFICATION RESULTS OF 20 SAMPLE IMAGES"
   ]
  },
  {
   "cell_type": "code",
   "execution_count": 14,
   "id": "28c437b9",
   "metadata": {},
   "outputs": [
    {
     "name": "stdout",
     "output_type": "stream",
     "text": [
      "1/1 [==============================] - 0s 428ms/step\n"
     ]
    }
   ],
   "source": [
    "import os\n",
    "\n",
    "\n",
    "# Select 20 sample images from the test data\n",
    "sample_data = []\n",
    "for i in range(20):\n",
    "    sample_data.append(test_data[i][0][0])\n",
    "\n",
    "# Generating predictions for sample images\n",
    "y_prob = CNN.predict(np.array(sample_data))\n",
    "\n",
    "# Getting predicted classes for the sample images\n",
    "y_pred = np.argmax(y_prob, axis=-1)\n",
    "\n",
    "# Getting all class labels\n",
    "class_labels = train_data.class_indices\n",
    "class_labels = {v: k for k, v in class_labels.items()}\n",
    "\n",
    "# Create output directory for saving results\n",
    "output_dir = 'sample_results'\n",
    "if not os.path.exists(output_dir):\n",
    "    os.mkdir(output_dir)\n",
    "\n",
    "# Save classification results for each sample image\n",
    "for i in range(len(y_pred)):\n",
    "    filename = 'sample_{}.jpg'.format(i+1)\n",
    "    label = class_labels[y_pred[i]]\n",
    "    result = 'Predicted class: {}'.format(label)\n",
    "    with open(os.path.join(output_dir, 'sample_{}.txt'.format(i+1)), 'w') as f:\n",
    "        f.write(result)\n",
    "    keras.preprocessing.image.save_img(os.path.join(output_dir, filename), sample_data[i])"
   ]
  },
  {
   "cell_type": "code",
   "execution_count": null,
   "id": "5030e96d",
   "metadata": {},
   "outputs": [],
   "source": []
  }
 ],
 "metadata": {
  "kernelspec": {
   "display_name": "Python 3 (ipykernel)",
   "language": "python",
   "name": "python3"
  },
  "language_info": {
   "codemirror_mode": {
    "name": "ipython",
    "version": 3
   },
   "file_extension": ".py",
   "mimetype": "text/x-python",
   "name": "python",
   "nbconvert_exporter": "python",
   "pygments_lexer": "ipython3",
   "version": "3.11.5"
  }
 },
 "nbformat": 4,
 "nbformat_minor": 5
}
