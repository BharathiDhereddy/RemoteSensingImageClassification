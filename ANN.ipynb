{
 "cells": [
  {
   "cell_type": "code",
   "execution_count": 1,
   "id": "5bf2e97c",
   "metadata": {},
   "outputs": [
    {
     "name": "stdout",
     "output_type": "stream",
     "text": [
      "WARNING:tensorflow:From C:\\Users\\Bharathi Dhereddy\\anaconda3\\Lib\\site-packages\\keras\\src\\losses.py:2976: The name tf.losses.sparse_softmax_cross_entropy is deprecated. Please use tf.compat.v1.losses.sparse_softmax_cross_entropy instead.\n",
      "\n"
     ]
    }
   ],
   "source": [
    "import tensorflow as tf\n",
    "from tensorflow import keras\n",
    "from tensorflow.keras import datasets, layers, models\n",
    "from tensorflow.keras.preprocessing.image import ImageDataGenerator\n",
    "import matplotlib.pyplot as plt\n",
    "import numpy as np"
   ]
  },
  {
   "cell_type": "code",
   "execution_count": 2,
   "id": "12a72588",
   "metadata": {},
   "outputs": [],
   "source": [
    "#Data Loading"
   ]
  },
  {
   "cell_type": "code",
   "execution_count": 3,
   "id": "0a36a40b",
   "metadata": {},
   "outputs": [
    {
     "name": "stdout",
     "output_type": "stream",
     "text": [
      "Found 27000 images belonging to 10 classes.\n"
     ]
    }
   ],
   "source": [
    "#Load the dataset\n",
    "data_generator = keras.preprocessing.image.ImageDataGenerator(\n",
    "    rescale=1./255,\n",
    "    shear_range=0.2,\n",
    "    zoom_range=0.2,\n",
    "    validation_split=0.2\n",
    "    \n",
    ")\n",
    "\n",
    "data_path = r'E:\\4-2\\Eurosat Dataset\\2750'\n",
    "\n",
    "data = data_generator.flow_from_directory(\n",
    "    data_path,\n",
    "    target_size=(64, 64),\n",
    "    batch_size=32,\n",
    "    class_mode='categorical',\n",
    "    classes=['AnnualCrop', 'Forest', 'HerbaceousVegetation', 'Highway', 'Industrial', 'Pasture', 'PermanentCrop', 'Residential', 'River', 'SeaLake'] \n",
    "\n",
    ")"
   ]
  },
  {
   "cell_type": "code",
   "execution_count": 4,
   "id": "b17f4642",
   "metadata": {},
   "outputs": [],
   "source": [
    "#Training & Testing Dataset "
   ]
  },
  {
   "cell_type": "code",
   "execution_count": 5,
   "id": "26ebe323",
   "metadata": {},
   "outputs": [
    {
     "name": "stdout",
     "output_type": "stream",
     "text": [
      "Found 21600 images belonging to 10 classes.\n"
     ]
    }
   ],
   "source": [
    "train_data = data_generator.flow_from_directory(\n",
    "    data_path,\n",
    "    target_size=(64, 64),\n",
    "    batch_size=8,\n",
    "    class_mode='categorical',\n",
    "    subset='training',\n",
    "    classes=['AnnualCrop', 'Forest', 'HerbaceousVegetation', 'Highway', 'Industrial', 'Pasture', 'PermanentCrop', 'Residential', 'River', 'SeaLake']\n",
    "\n",
    "    \n",
    "\n",
    ")"
   ]
  },
  {
   "cell_type": "code",
   "execution_count": 6,
   "id": "6ef1b13b",
   "metadata": {},
   "outputs": [
    {
     "name": "stdout",
     "output_type": "stream",
     "text": [
      "Found 5400 images belonging to 10 classes.\n"
     ]
    }
   ],
   "source": [
    "test_data = data_generator.flow_from_directory(\n",
    "    r'E:\\4-2\\Eurosat Dataset\\2750',\n",
    "    target_size=(64, 64),\n",
    "    batch_size=1,\n",
    "    subset='validation',\n",
    "    class_mode='categorical',\n",
    "    classes=['AnnualCrop', 'Forest', 'HerbaceousVegetation', 'Highway', 'Industrial', 'Pasture', 'PermanentCrop', 'Residential', 'River', 'SeaLake']\n",
    "\n",
    "    \n",
    ")"
   ]
  },
  {
   "cell_type": "code",
   "execution_count": 7,
   "id": "8fbe3665",
   "metadata": {},
   "outputs": [],
   "source": [
    "#ANN"
   ]
  },
  {
   "cell_type": "code",
   "execution_count": 8,
   "id": "d25b59a6",
   "metadata": {},
   "outputs": [
    {
     "name": "stdout",
     "output_type": "stream",
     "text": [
      "WARNING:tensorflow:From C:\\Users\\Bharathi Dhereddy\\anaconda3\\Lib\\site-packages\\keras\\src\\backend.py:873: The name tf.get_default_graph is deprecated. Please use tf.compat.v1.get_default_graph instead.\n",
      "\n"
     ]
    }
   ],
   "source": [
    "#Model building using ANN\n",
    "ann = keras.Sequential([\n",
    "        keras.layers.Flatten(input_shape=(64,64,3)),\n",
    "        keras.layers.Dense(3000, activation='relu'),\n",
    "        keras.layers.Dense(1000, activation='relu'),\n",
    "        keras.layers.Dense(10, activation='softmax')    \n",
    "    ])\n",
    "\n",
    "\n"
   ]
  },
  {
   "cell_type": "code",
   "execution_count": 9,
   "id": "8025ef23",
   "metadata": {},
   "outputs": [
    {
     "name": "stdout",
     "output_type": "stream",
     "text": [
      "WARNING:tensorflow:From C:\\Users\\Bharathi Dhereddy\\anaconda3\\Lib\\site-packages\\keras\\src\\optimizers\\__init__.py:309: The name tf.train.Optimizer is deprecated. Please use tf.compat.v1.train.Optimizer instead.\n",
      "\n"
     ]
    }
   ],
   "source": [
    "ann.compile(optimizer='SGD',\n",
    "              loss='categorical_crossentropy',\n",
    "              metrics=['accuracy'])"
   ]
  },
  {
   "cell_type": "code",
   "execution_count": 10,
   "id": "c397c3ef",
   "metadata": {},
   "outputs": [
    {
     "name": "stdout",
     "output_type": "stream",
     "text": [
      "Epoch 1/10\n",
      "WARNING:tensorflow:From C:\\Users\\Bharathi Dhereddy\\anaconda3\\Lib\\site-packages\\keras\\src\\utils\\tf_utils.py:492: The name tf.ragged.RaggedTensorValue is deprecated. Please use tf.compat.v1.ragged.RaggedTensorValue instead.\n",
      "\n",
      "WARNING:tensorflow:From C:\\Users\\Bharathi Dhereddy\\anaconda3\\Lib\\site-packages\\keras\\src\\engine\\base_layer_utils.py:384: The name tf.executing_eagerly_outside_functions is deprecated. Please use tf.compat.v1.executing_eagerly_outside_functions instead.\n",
      "\n",
      "2700/2700 [==============================] - 489s 180ms/step - loss: 1.7430 - accuracy: 0.3373 - val_loss: 1.6070 - val_accuracy: 0.3478\n",
      "Epoch 2/10\n",
      "2700/2700 [==============================] - 788s 292ms/step - loss: 1.5253 - accuracy: 0.4329 - val_loss: 1.3958 - val_accuracy: 0.5020\n",
      "Epoch 3/10\n",
      "2700/2700 [==============================] - 646s 239ms/step - loss: 1.4351 - accuracy: 0.4751 - val_loss: 1.4830 - val_accuracy: 0.4607\n",
      "Epoch 4/10\n",
      "2700/2700 [==============================] - 501s 186ms/step - loss: 1.3754 - accuracy: 0.4965 - val_loss: 1.2863 - val_accuracy: 0.5361\n",
      "Epoch 5/10\n",
      "2700/2700 [==============================] - 534s 198ms/step - loss: 1.3329 - accuracy: 0.5178 - val_loss: 1.3907 - val_accuracy: 0.4980\n",
      "Epoch 6/10\n",
      "2700/2700 [==============================] - 514s 190ms/step - loss: 1.2966 - accuracy: 0.5330 - val_loss: 1.2359 - val_accuracy: 0.5600\n",
      "Epoch 7/10\n",
      "2700/2700 [==============================] - 598s 222ms/step - loss: 1.2648 - accuracy: 0.5435 - val_loss: 1.2370 - val_accuracy: 0.5383\n",
      "Epoch 8/10\n",
      "2700/2700 [==============================] - 536s 199ms/step - loss: 1.2398 - accuracy: 0.5532 - val_loss: 1.2639 - val_accuracy: 0.5530\n",
      "Epoch 9/10\n",
      "2700/2700 [==============================] - 533s 198ms/step - loss: 1.2168 - accuracy: 0.5592 - val_loss: 1.2297 - val_accuracy: 0.5680\n",
      "Epoch 10/10\n",
      "2700/2700 [==============================] - 318s 118ms/step - loss: 1.2008 - accuracy: 0.5650 - val_loss: 1.1798 - val_accuracy: 0.5628\n"
     ]
    },
    {
     "data": {
      "text/plain": [
       "<keras.src.callbacks.History at 0x25a971d3ed0>"
      ]
     },
     "execution_count": 10,
     "metadata": {},
     "output_type": "execute_result"
    }
   ],
   "source": [
    "ann.fit(train_data,validation_data=test_data, epochs=10)"
   ]
  },
  {
   "cell_type": "code",
   "execution_count": 11,
   "id": "bc118e17",
   "metadata": {},
   "outputs": [
    {
     "name": "stdout",
     "output_type": "stream",
     "text": [
      "5400/5400 [==============================] - 59s 11ms/step - loss: 1.1824 - accuracy: 0.5652\n"
     ]
    },
    {
     "data": {
      "text/plain": [
       "[1.1823952198028564, 0.5651851892471313]"
      ]
     },
     "execution_count": 11,
     "metadata": {},
     "output_type": "execute_result"
    }
   ],
   "source": [
    "ann.evaluate(test_data)"
   ]
  },
  {
   "cell_type": "code",
   "execution_count": 12,
   "id": "b7aa1b5a",
   "metadata": {},
   "outputs": [],
   "source": [
    "#Confusion Matrix"
   ]
  },
  {
   "cell_type": "code",
   "execution_count": 13,
   "id": "e86e593c",
   "metadata": {},
   "outputs": [
    {
     "name": "stdout",
     "output_type": "stream",
     "text": [
      "5400/5400 [==============================] - 58s 11ms/step\n",
      "Classification Report: \n",
      "               precision    recall  f1-score   support\n",
      "\n",
      "           0       0.74      0.46      0.56       600\n",
      "           1       0.70      0.92      0.79       600\n",
      "           2       0.52      0.20      0.28       600\n",
      "           3       0.38      0.35      0.36       500\n",
      "           4       0.81      0.69      0.74       500\n",
      "           5       0.75      0.46      0.57       400\n",
      "           6       0.47      0.48      0.47       500\n",
      "           7       0.37      0.94      0.53       600\n",
      "           8       0.63      0.45      0.52       500\n",
      "           9       0.81      0.67      0.74       600\n",
      "\n",
      "    accuracy                           0.57      5400\n",
      "   macro avg       0.62      0.56      0.56      5400\n",
      "weighted avg       0.62      0.57      0.56      5400\n",
      "\n"
     ]
    }
   ],
   "source": [
    "from sklearn.metrics import confusion_matrix,classification_report\n",
    "\n",
    "y_true = []\n",
    "for i in range(test_data.samples // test_data.batch_size):\n",
    "    _, batch_labels = test_data.next()\n",
    "    y_true.extend(np.argmax(batch_labels, axis=-1))\n",
    "    \n",
    "# Generating predictions for test data\n",
    "y_probab = ann.predict(test_data, steps=np.ceil(test_data.samples/test_data.batch_size))\n",
    "\n",
    "#Generating predicted classes for test data\n",
    "y_pred = np.argmax(y_probab, axis=-1)\n",
    "\n",
    "#Generating confusion matrix\n",
    "cm = confusion_matrix(y_true, y_pred)\n",
    "print(\"Classification Report: \\n\", classification_report(y_true, y_pred))"
   ]
  },
  {
   "cell_type": "code",
   "execution_count": 14,
   "id": "66e6e152",
   "metadata": {},
   "outputs": [],
   "source": [
    "#Plotting Confusion Matrix"
   ]
  },
  {
   "cell_type": "code",
   "execution_count": 15,
   "id": "210178c0",
   "metadata": {},
   "outputs": [
    {
     "data": {
      "image/png": "[encoded data removed]",
      "text/plain": [
       "<Figure size 640x480 with 2 Axes>"
      ]
     },
     "metadata": {},
     "output_type": "display_data"
    }
   ],
   "source": [
    "#plotting confusion matrix\n",
    "plt.imshow(cm, cmap=plt.cm.Blues)\n",
    "plt.title('Confusion Matrix')\n",
    "plt.colorbar()\n",
    "tick_marks = np.arange(len(data.class_indices))\n",
    "plt.xticks(tick_marks, data.class_indices, rotation=90)\n",
    "plt.yticks(tick_marks, data.class_indices)\n",
    "plt.xlabel('Predicted Label')\n",
    "plt.ylabel('Ground Truth')\n",
    "\n",
    "# adding values in each cell\n",
    "thresh = cm.max() / 2.\n",
    "for i, j in zip(range(cm.shape[0]), range(cm.shape[1])):\n",
    "    plt.text(j, i, format(cm[i, j], 'd'),\n",
    "             horizontalalignment=\"center\",\n",
    "             color=\"white\" if cm[i, j] > thresh else \"black\")\n",
    "\n",
    "plt.show()"
   ]
  }
 ],
 "metadata": {
  "kernelspec": {
   "display_name": "Python 3 (ipykernel)",
   "language": "python",
   "name": "python3"
  },
  "language_info": {
   "codemirror_mode": {
    "name": "ipython",
    "version": 3
   },
   "file_extension": ".py",
   "mimetype": "text/x-python",
   "name": "python",
   "nbconvert_exporter": "python",
   "pygments_lexer": "ipython3",
   "version": "3.11.5"
  }
 },
 "nbformat": 4,
 "nbformat_minor": 5
}
